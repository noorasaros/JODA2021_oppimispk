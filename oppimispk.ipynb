{
 "cells": [
  {
   "cell_type": "code",
   "execution_count": 1,
   "id": "ac67a2ed",
   "metadata": {},
   "outputs": [
    {
     "name": "stdout",
     "output_type": "stream",
     "text": [
      "Hello world\n"
     ]
    }
   ],
   "source": [
    "print('Hello world')"
   ]
  },
  {
   "cell_type": "markdown",
   "id": "718c0ee5-d710-44a0-bf34-76b0b009e5a6",
   "metadata": {},
   "source": [
    "**Oppimispäiväkirja**\n",
    "Johdatus datatieteeseen 2021, kesä\n"
   ]
  },
  {
   "cell_type": "markdown",
   "id": "be1da20a-5b94-4a16-92fd-6401a94aee6c",
   "metadata": {},
   "source": [
    "Noora Saros <br>\n",
    "245887"
   ]
  },
  {
   "cell_type": "markdown",
   "id": "6ee83ad1",
   "metadata": {},
   "source": [
    "Tämä oppimispäiväkirja löytyy <a href=\"https://github.com/noorasaros/JODA2021_oppimispk/blob/main/oppimispk.ipynb\">GitHubista</a>."
   ]
  },
  {
   "cell_type": "markdown",
   "id": "4f0f8bed-6a8b-42f0-83ee-d9544c534b00",
   "metadata": {},
   "source": [
    "### Luento 1:"
   ]
  },
  {
   "cell_type": "markdown",
   "id": "bf5bb9ff",
   "metadata": {},
   "source": [
    "<p>Ensimmäisellä luennolla käytiin läpi pohjustus siitä, mitä datatiede oikeastaan on ja mikä sen merkitys on. Toisaalta käsiteltiin myös, miten harjoitustyö ja oppimispäiväkirja tulisi kurssin aikana toteuttaa. Markdown ja Python olivat itselleni tuttuja kieliä, mutta Jupyter ja sen ajaminen olivat uutta.</p>\n",
    "\n",
    "<p>Itseasiassa aloitin oppimispäiväkirjan alustamisen ennen kuin olin edes katsonut ensimmäisen luennon tallennetta ja päädyin täten käsittelemään ensimmäistä Jupyter-työkirjaani hieman eri tavalla. Asensin Jupyterin omalle koneelleni ja ajoin sen komentorivillä. Käytännössä tämä ratkaisu vastasi Anakondan käyttöä, sillä Jupyter Notebook pyöri edelleen omalla koneellani. Toisaalta olin tyytyväinen tähän ratkaisuun, koska ensinnäkin sain muisteltua itselläni ruosteessa ollutta komentorivin käyttöä ja toisaalta tiedoston säilyttäminen ja ajaminen oli mahdollista omalla koneella. Havaitsin kuitenkin pian, että harjoitustyötä varten joutuisin tekemään luultavasti muitakin ratkaisuja.</p>"
   ]
  },
  {
   "cell_type": "code",
   "execution_count": 2,
   "id": "752c9801",
   "metadata": {},
   "outputs": [
    {
     "name": "stdout",
     "output_type": "stream",
     "text": [
      "6\n",
      "Yhtälö  6  +  7  =  13\n"
     ]
    }
   ],
   "source": [
    "# Ensimmäinen kokeilu kirjoittaa Pythonia Jupyter-työkirjan sisään\n",
    "# ja samalla muistelua Pythonin kirjoittamisesta noin 6 vuoden takaa.\n",
    "x = int(input())\n",
    "y = x+1\n",
    "z = x + y\n",
    "print('Yhtälö ', x,' + ', y,' = ', z)"
   ]
  },
  {
   "cell_type": "code",
   "execution_count": 10,
   "id": "1ce9c573",
   "metadata": {},
   "outputs": [
    {
     "name": "stdout",
     "output_type": "stream",
     "text": [
      "6\n"
     ]
    }
   ],
   "source": [
    "# Onkohan nää rivit yhteydessä toisiinsa?\n",
    "print(x)\n",
    "# On! Kauheen kätevää."
   ]
  },
  {
   "cell_type": "markdown",
   "id": "fe6054a2",
   "metadata": {},
   "source": [
    "### Luento 2:"
   ]
  },
  {
   "cell_type": "markdown",
   "id": "705f38e2",
   "metadata": {},
   "source": [
    "Tekstiä"
   ]
  },
  {
   "cell_type": "code",
   "execution_count": 4,
   "id": "67a11cb8",
   "metadata": {},
   "outputs": [],
   "source": [
    "# jotain"
   ]
  },
  {
   "cell_type": "markdown",
   "id": "23448896",
   "metadata": {},
   "source": [
    "### Luento 3:"
   ]
  },
  {
   "cell_type": "markdown",
   "id": "08f17026",
   "metadata": {},
   "source": [
    "Tekstiä"
   ]
  },
  {
   "cell_type": "code",
   "execution_count": 5,
   "id": "df9b894c",
   "metadata": {},
   "outputs": [],
   "source": [
    "# jotain"
   ]
  },
  {
   "cell_type": "markdown",
   "id": "dcf8d4ee",
   "metadata": {},
   "source": [
    "### Luento 4:"
   ]
  },
  {
   "cell_type": "markdown",
   "id": "9e821931",
   "metadata": {},
   "source": [
    "Tekstiä"
   ]
  },
  {
   "cell_type": "code",
   "execution_count": 6,
   "id": "1757fb81",
   "metadata": {},
   "outputs": [],
   "source": [
    "# jotain"
   ]
  },
  {
   "cell_type": "markdown",
   "id": "b5d403d4",
   "metadata": {},
   "source": [
    "### Luento 5:"
   ]
  },
  {
   "cell_type": "markdown",
   "id": "4b5ae6d4",
   "metadata": {},
   "source": [
    "Tekstiä"
   ]
  },
  {
   "cell_type": "code",
   "execution_count": 7,
   "id": "5bd5643e",
   "metadata": {},
   "outputs": [],
   "source": [
    "# jotain"
   ]
  },
  {
   "cell_type": "markdown",
   "id": "6f213e14",
   "metadata": {},
   "source": [
    "### Luento 6:"
   ]
  },
  {
   "cell_type": "markdown",
   "id": "72b3b5d4",
   "metadata": {},
   "source": [
    "Tekstiä"
   ]
  },
  {
   "cell_type": "code",
   "execution_count": 8,
   "id": "02f5860b",
   "metadata": {},
   "outputs": [],
   "source": [
    "# jotain"
   ]
  },
  {
   "cell_type": "markdown",
   "id": "24a64aff",
   "metadata": {},
   "source": [
    "### Luento 7:"
   ]
  },
  {
   "cell_type": "markdown",
   "id": "f72cfe47",
   "metadata": {},
   "source": [
    "Tekstiä"
   ]
  },
  {
   "cell_type": "code",
   "execution_count": 9,
   "id": "a4c8887e",
   "metadata": {},
   "outputs": [],
   "source": [
    "# jotain"
   ]
  }
 ],
 "metadata": {
  "kernelspec": {
   "display_name": "Python 3",
   "language": "python",
   "name": "python3"
  },
  "language_info": {
   "codemirror_mode": {
    "name": "ipython",
    "version": 3
   },
   "file_extension": ".py",
   "mimetype": "text/x-python",
   "name": "python",
   "nbconvert_exporter": "python",
   "pygments_lexer": "ipython3",
   "version": "3.7.3"
  }
 },
 "nbformat": 4,
 "nbformat_minor": 5
}
