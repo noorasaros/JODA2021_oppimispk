{
 "cells": [
  {
   "cell_type": "markdown",
   "id": "718c0ee5-d710-44a0-bf34-76b0b009e5a6",
   "metadata": {},
   "source": [
    "**Oppimispäiväkirja**\n"
   ]
  },
  {
   "cell_type": "markdown",
   "id": "be1da20a-5b94-4a16-92fd-6401a94aee6c",
   "metadata": {},
   "source": [
    "Noora Saros 245887"
   ]
  },
  {
   "cell_type": "markdown",
   "id": "4f0f8bed-6a8b-42f0-83ee-d9544c534b00",
   "metadata": {},
   "source": [
    "Tähän tulee oppimispäiväkirja luentoviikoittain."
   ]
  },
  {
   "cell_type": "code",
   "execution_count": null,
   "id": "e9372d82-639f-4521-b4a9-6f286ccb3ff4",
   "metadata": {},
   "outputs": [],
   "source": []
  }
 ],
 "metadata": {
  "kernelspec": {
   "display_name": "Python 3",
   "language": "python",
   "name": "python3"
  },
  "language_info": {
   "codemirror_mode": {
    "name": "ipython",
    "version": 3
   },
   "file_extension": ".py",
   "mimetype": "text/x-python",
   "name": "python",
   "nbconvert_exporter": "python",
   "pygments_lexer": "ipython3",
   "version": "3.7.3"
  }
 },
 "nbformat": 4,
 "nbformat_minor": 5
}
